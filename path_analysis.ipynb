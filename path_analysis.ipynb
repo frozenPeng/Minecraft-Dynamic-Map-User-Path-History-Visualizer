{
 "cells": [
  {
   "cell_type": "code",
   "execution_count": 7,
   "metadata": {},
   "outputs": [],
   "source": [
    "from selenium import webdriver\n",
    "from selenium.webdriver.chrome.options import Options\n",
    "from selenium.webdriver.common.by import By\n",
    "from selenium.common.exceptions import StaleElementReferenceException"
   ]
  },
  {
   "cell_type": "code",
   "execution_count": 8,
   "metadata": {},
   "outputs": [],
   "source": [
    "driver = webdriver.Chrome()\n",
    "\n",
    "url = \"https://map.imperialonline.kr/#earth;earth;11168,64,-1632;0\"\n",
    "driver.get(url)"
   ]
  },
  {
   "cell_type": "code",
   "execution_count": null,
   "metadata": {},
   "outputs": [],
   "source": [
    "def getLocations():\n",
    "    div = driver.find_elements(By.TAG_NAME, 'div')\n",
    "\n",
    "    dic = {}\n",
    "    for d in div:\n",
    "        #if d includes \"transform\"\n",
    "        try:\n",
    "            if 'translate3d' in d.get_attribute('style') and d.text != '':\n",
    "                dic[d.text] = d.get_attribute('style')\n",
    "        except:\n",
    "            continue\n",
    "\n",
    "\n",
    "    #delete first element in dic\n",
    "    dic.pop(list(dic.keys())[0])\n",
    "\n",
    "\n",
    "    for key, value in dic.items():\n",
    "        dic[key] = value.replace('px', '').replace('transform: translate3d(', '').replace(');', '')\n",
    "    #convert string to tuple\n",
    "    for key, value in dic.items():\n",
    "        dic[key] = tuple(map(int, value.split(', ')))\n",
    "\n",
    "    return dic\n",
    "\n",
    "\n",
    "\n"
   ]
  },
  {
   "cell_type": "code",
   "execution_count": null,
   "metadata": {},
   "outputs": [
    {
     "ename": "SyntaxError",
     "evalue": "invalid syntax (3201682130.py, line 5)",
     "output_type": "error",
     "traceback": [
      "\u001b[0;36m  Cell \u001b[0;32mIn[6], line 5\u001b[0;36m\u001b[0m\n\u001b[0;31m    improt numpy as np\u001b[0m\n\u001b[0m           ^\u001b[0m\n\u001b[0;31mSyntaxError\u001b[0m\u001b[0;31m:\u001b[0m invalid syntax\n"
     ]
    }
   ],
   "source": [
    "from IPython.display import clear_output\n",
    "import time\n",
    "import matplotlib.pyplot as plt\n",
    "import pickle\n",
    "import numpy as np\n",
    "\n",
    "try:\n",
    "    # Load result from file\n",
    "    with open('result.pkl', 'rb') as f:\n",
    "        result = pickle.load(f)\n",
    "except FileNotFoundError:\n",
    "    # Handle the case where the file doesn't exist\n",
    "    print(\"File 'result.pkl' does not exist. Creating a new empty result dictionary.\")\n",
    "    result = {}\n",
    "\n",
    "colors = plt.cm.jet(np.linspace(0,1,n))\n",
    "\n",
    "while True:\n",
    "    plt.figure(figsize=(15, 10))  # Set the figure size to 15x10\n",
    "    dic = getLocations()\n",
    "    player_list = list(dic.keys())\n",
    "\n",
    "    for key, value in dic.items():    \n",
    "        try:\n",
    "            result[key].append(value)\n",
    "        except:\n",
    "            result[key] = []\n",
    "            result[key].append(value)\n",
    "\n",
    "    # Clear previous plot\n",
    "    plt.clf()\n",
    "\n",
    "    # trace value of result by connecting points\n",
    "    for i, (key, value) in enumerate(result.items()):\n",
    "        x = []\n",
    "        y = []\n",
    "        for v in value:\n",
    "            x.append(v[0])\n",
    "            y.append(v[1])\n",
    "        # Use modulo operation to cycle through colors\n",
    "        color=colors[i]\n",
    "        plt.plot(x, y, 'o--', markersize=1, label=key, color=color, alpha=0.5)\n",
    "\n",
    "    clear_output(wait=True)\n",
    "    # Invert y-axis\n",
    "    plt.gca().invert_yaxis()\n",
    "\n",
    "    # Set x-axis and y-axis scales to be the same\n",
    "    plt.axis('equal')\n",
    "\n",
    "    plt.legend()  # Show legend\n",
    "    plt.pause(0.1)\n",
    "    plt.draw()  # Draw the plot\n",
    "\n",
    "    # Save result to a file\n",
    "    with open('result.pkl', 'wb') as f:\n",
    "        pickle.dump(result, f)\n",
    "\n",
    "    time.sleep(5)\n"
   ]
  }
 ],
 "metadata": {
  "kernelspec": {
   "display_name": "base",
   "language": "python",
   "name": "python3"
  },
  "language_info": {
   "codemirror_mode": {
    "name": "ipython",
    "version": 3
   },
   "file_extension": ".py",
   "mimetype": "text/x-python",
   "name": "python",
   "nbconvert_exporter": "python",
   "pygments_lexer": "ipython3",
   "version": "3.11.7"
  }
 },
 "nbformat": 4,
 "nbformat_minor": 2
}
